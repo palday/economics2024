{
  "cells": [
    {
      "cell_type": "markdown",
      "metadata": {},
      "source": [
        "# Introduction\n",
        "\n",
        "MixedModels.jl is part of the JuliaStats ecosystem and so shares a\n",
        "number of interface and design elements with GLM.jl. MixedModels.jl can\n",
        "also be viewed as the next step in the research programme behind the R\n",
        "package lme4 (and further back, nlme). The focus of development is on\n",
        "linear mixed effects models with unconstrained covariance matrices, with\n",
        "a secondary focus on generalized linear mixed effects models. We’ll come\n",
        "back to this focus later, when we discuss limitations of the software.\n",
        "For now, let us start off with a simple mixed model.\n",
        "\n",
        "# A first model\n",
        "\n",
        "MixedModels.jl ships with a number of sample and testing datasets, with\n",
        "varying levels of documentation."
      ],
      "id": "ec975a3f-f5ba-4309-bb49-5b6c7dc3d856"
    },
    {
      "cell_type": "code",
      "execution_count": 1,
      "metadata": {},
      "outputs": [
        {
          "output_type": "display_data",
          "metadata": {},
          "data": {
            "text/plain": [
              "17-element Vector{String}:\n",
              " \"cbpp\"\n",
              " \"contra\"\n",
              " \"d3\"\n",
              " \"dyestuff\"\n",
              " \"dyestuff2\"\n",
              " \"grouseticks\"\n",
              " \"insteval\"\n",
              " \"kb07\"\n",
              " \"machines\"\n",
              " \"ml1m\"\n",
              " \"mmec\"\n",
              " \"mrk17_exp1\"\n",
              " \"oxide\"\n",
              " \"pastes\"\n",
              " \"penicillin\"\n",
              " \"sleepstudy\"\n",
              " \"verbagg\""
            ]
          }
        }
      ],
      "source": [
        "using MixedModels\n",
        "MixedModels.datasets()"
      ],
      "id": "2"
    },
    {
      "cell_type": "markdown",
      "metadata": {},
      "source": [
        "Let’s take a look at `insteval`, which is the same dataset [documented\n",
        "in lme4](https://rdrr.io/cran/lme4/man/InstEval.html)."
      ],
      "id": "bc63e775-f61a-4cbd-80aa-7b90d42ad242"
    },
    {
      "cell_type": "code",
      "execution_count": 1,
      "metadata": {},
      "outputs": [
        {
          "output_type": "display_data",
          "metadata": {},
          "data": {
            "text/plain": [
              "Arrow.Table with 73421 rows, 7 columns, and schema:\n",
              " :s        String\n",
              " :d        String\n",
              " :dept     String\n",
              " :studage  String\n",
              " :lectage  String\n",
              " :service  String\n",
              " :y        Int8"
            ]
          }
        }
      ],
      "source": [
        "insteval = MixedModels.dataset(\"insteval\")"
      ],
      "id": "4"
    },
    {
      "cell_type": "markdown",
      "metadata": {},
      "source": [
        "-   `s`: individual students (2972 values)\n",
        "-   `d`: individual instructors (from *Dozent*, 2160 values)\n",
        "-   `studage`: student “age” measured in their current semester number\n",
        "-   `lectage`: lecture “age”, measuring how many semesters back the\n",
        "    lecture rated had taken place (this was part of a retrospective\n",
        "    study, so some ratings were from a few years back)\n",
        "-   `service`: whether or not the lecture is held as a “service” in a\n",
        "    different department\n",
        "-   `dept`: department (15 unique values)"
      ],
      "id": "e96e7118-a069-4b97-8513-ff127819b166"
    },
    {
      "cell_type": "code",
      "execution_count": 1,
      "metadata": {},
      "outputs": [
        {
          "output_type": "display_data",
          "metadata": {},
          "data": {}
        }
      ],
      "source": [
        "fm1 = fit(MixedModel,\n",
        "          @formula(y ~ 1 + studage + lectage + service + (1|s) + (1|d) + (1|dept)),\n",
        "          insteval; progress=false)"
      ],
      "id": "6"
    },
    {
      "cell_type": "markdown",
      "metadata": {},
      "source": [
        "Note that we don’t need to convert the sample dataset into a DataFrame:\n",
        "there is a standard for tabular data in Julia and MixedModels.jl can\n",
        "consume any table meeting that standard. This can be very useful for\n",
        "large datasets, when having an additional copy of the data in memory can\n",
        "be costly, and also allows for using memory mapped tabular structures.\n",
        "\n",
        "For display in the Quarto notebook, we set `progress=false`, but the\n",
        "progress meter defaults to enabled. For a given model, you may\n",
        "nonetheless not see the progress meter if the model is finished fitting\n",
        "before the first progress update would be delivered.\n",
        "\n",
        "# Examining model output\n",
        "\n",
        "We note that MixedModels.jl has a different display in the REPL than it\n",
        "does in an Markdown/HTML/LaTeX document. Packages are free to define\n",
        "`show` methods for displaying their output different for different\n",
        "output venues (i.e. for different MIME types). We can force the\n",
        "plaintext output with `println`:"
      ],
      "id": "20fd18db-86e3-4c96-b198-acf388bb05ce"
    },
    {
      "cell_type": "code",
      "execution_count": 1,
      "metadata": {},
      "outputs": [
        {
          "output_type": "stream",
          "name": "stdout",
          "text": [
            "Linear mixed model fit by maximum likelihood\n",
            " y ~ 1 + studage + lectage + service + (1 | s) + (1 | d) + (1 | dept)\n",
            "    logLik     -2 logLik       AIC         AICc          BIC     \n",
            " -118776.9929  237553.9858  237581.9858  237581.9915  237710.8413\n",
            "\n",
            "Variance components:\n",
            "            Column    Variance  Std.Dev. \n",
            "s        (Intercept)  0.1065189 0.3263723\n",
            "d        (Intercept)  0.2607185 0.5106060\n",
            "dept     (Intercept)  0.0061926 0.0786929\n",
            "Residual              1.3833370 1.1761535\n",
            " Number of obs: 73421; levels of grouping factors: 2972, 1128, 14\n",
            "\n",
            "  Fixed-effects parameters:\n",
            "─────────────────────────────────────────────────────\n",
            "                  Coef.  Std. Error       z  Pr(>|z|)\n",
            "─────────────────────────────────────────────────────\n",
            "(Intercept)   3.29078     0.0324363  101.45    <1e-99\n",
            "studage: 4    0.0519478   0.0231671    2.24    0.0249\n",
            "studage: 6    0.0721226   0.0239627    3.01    0.0026\n",
            "studage: 8    0.136285    0.0263767    5.17    <1e-06\n",
            "lectage: 2   -0.080753    0.0153803   -5.25    <1e-06\n",
            "lectage: 3   -0.110187    0.0167235   -6.59    <1e-10\n",
            "lectage: 4   -0.189168    0.0196016   -9.65    <1e-21\n",
            "lectage: 5   -0.16443     0.0214044   -7.68    <1e-13\n",
            "lectage: 6   -0.245996    0.020484   -12.01    <1e-32\n",
            "service: Y   -0.0727167   0.0134729   -5.40    <1e-07\n",
            "─────────────────────────────────────────────────────"
          ]
        }
      ],
      "source": [
        "println(fm1)"
      ],
      "id": "8"
    },
    {
      "cell_type": "markdown",
      "metadata": {},
      "source": [
        "The default pretty printing method for HTML output shows less\n",
        "information than the default output in the REPL, but represents a\n",
        "compact way to display many elements in a single table. We can also\n",
        "extract the individual elements:"
      ],
      "id": "308ee09a-8572-460a-8f77-ec549750d9fb"
    },
    {
      "cell_type": "code",
      "execution_count": 1,
      "metadata": {},
      "outputs": [
        {
          "output_type": "stream",
          "name": "stdout",
          "text": [
            "─────────────────────────────────────────────────────\n",
            "                  Coef.  Std. Error       z  Pr(>|z|)\n",
            "─────────────────────────────────────────────────────\n",
            "(Intercept)   3.29078     0.0324363  101.45    <1e-99\n",
            "studage: 4    0.0519478   0.0231671    2.24    0.0249\n",
            "studage: 6    0.0721226   0.0239627    3.01    0.0026\n",
            "studage: 8    0.136285    0.0263767    5.17    <1e-06\n",
            "lectage: 2   -0.080753    0.0153803   -5.25    <1e-06\n",
            "lectage: 3   -0.110187    0.0167235   -6.59    <1e-10\n",
            "lectage: 4   -0.189168    0.0196016   -9.65    <1e-21\n",
            "lectage: 5   -0.16443     0.0214044   -7.68    <1e-13\n",
            "lectage: 6   -0.245996    0.020484   -12.01    <1e-32\n",
            "service: Y   -0.0727167   0.0134729   -5.40    <1e-07\n",
            "─────────────────────────────────────────────────────"
          ]
        }
      ],
      "source": [
        "println(coeftable(fm1)) # the fixed effects"
      ],
      "id": "10"
    },
    {
      "cell_type": "code",
      "execution_count": 1,
      "metadata": {},
      "outputs": [
        {
          "output_type": "stream",
          "name": "stdout",
          "text": [
            "Variance components:\n",
            "            Column    Variance  Std.Dev. \n",
            "s        (Intercept)  0.1065189 0.3263723\n",
            "d        (Intercept)  0.2607185 0.5106060\n",
            "dept     (Intercept)  0.0061926 0.0786929\n",
            "Residual              1.3833370 1.1761535\n"
          ]
        }
      ],
      "source": [
        "println(VarCorr(fm1)) # the variance-covariance, i.e. random effect, estimates"
      ],
      "id": "12"
    },
    {
      "cell_type": "markdown",
      "metadata": {},
      "source": [
        "Notably, each of these components also has a pretty printing method\n",
        "defined for rich displays.\n",
        "\n",
        "## Optimization results\n",
        "\n",
        "For more technically oriented users and debugging problematic models,\n",
        "the fitted model also includes information about its fit:"
      ],
      "id": "d3a8ef21-efd6-4cc7-90f4-e6707f569d43"
    },
    {
      "cell_type": "code",
      "execution_count": 1,
      "metadata": {},
      "outputs": [
        {
          "output_type": "display_data",
          "metadata": {},
          "data": {}
        }
      ],
      "source": [
        "fm1.optsum"
      ],
      "id": "14"
    },
    {
      "cell_type": "markdown",
      "metadata": {},
      "source": [
        "## Best linear unbiased predictions\n",
        "\n",
        "We can also examine the best linear unbiased predictions (BLUPS,\n",
        "i.e. conditional modes) of the fitted model:"
      ],
      "id": "d4818dd4-7bdf-4151-8f23-40dbfec4ad0b"
    },
    {
      "cell_type": "code",
      "execution_count": 1,
      "metadata": {},
      "outputs": [
        {
          "output_type": "display_data",
          "metadata": {},
          "data": {
            "text/plain": [
              "3-element Vector{Matrix{Float64}}:\n",
              " [0.16774140235737575 -0.04482701285162444 … 0.1382442938500027 0.2650774864010803]\n",
              " [0.3871977014122401 -0.4543515141805431 … 0.5663070246200219 -0.2322550813384579]\n",
              " [0.01925209823588375 -0.03142469083851408 … -0.03943347505732836 0.010869167979893487]"
            ]
          }
        }
      ],
      "source": [
        "# gives a compact mathematical representation\n",
        "ranef(fm1)"
      ],
      "id": "16"
    },
    {
      "cell_type": "code",
      "execution_count": 1,
      "metadata": {},
      "outputs": [
        {
          "output_type": "display_data",
          "metadata": {},
          "data": {
            "text/plain": [
              "(s = @NamedTuple{s::String, (Intercept)::Float64}[(s = \"S0001\", var\"(Intercept)\" = 0.16774140235737575), (s = \"S0002\", var\"(Intercept)\" = -0.04482701285162444), (s = \"S0003\", var\"(Intercept)\" = 0.31575935321258014), (s = \"S0004\", var\"(Intercept)\" = 0.24940732776784375), (s = \"S0005\", var\"(Intercept)\" = 0.050863352996870996), (s = \"S0006\", var\"(Intercept)\" = 0.10070590858725184), (s = \"S0007\", var\"(Intercept)\" = 0.49346379654842415), (s = \"S0008\", var\"(Intercept)\" = 0.21230071437874554), (s = \"S0009\", var\"(Intercept)\" = 0.4332979595948472), (s = \"S0010\", var\"(Intercept)\" = 0.34743864199091984)  …  (s = \"S2963\", var\"(Intercept)\" = -0.0749327557261207), (s = \"S2964\", var\"(Intercept)\" = -0.07639856541116313), (s = \"S2965\", var\"(Intercept)\" = -0.012697609893877363), (s = \"S2966\", var\"(Intercept)\" = -0.059683628597548756), (s = \"S2967\", var\"(Intercept)\" = -0.4776209481575346), (s = \"S2968\", var\"(Intercept)\" = -0.038080766921188454), (s = \"S2969\", var\"(Intercept)\" = 0.013164291227622239), (s = \"S2970\", var\"(Intercept)\" = 0.15284748072859305), (s = \"S2971\", var\"(Intercept)\" = 0.1382442938500027), (s = \"S2972\", var\"(Intercept)\" = 0.2650774864010803)], d = @NamedTuple{d::String, (Intercept)::Float64}[(d = \"I0001\", var\"(Intercept)\" = 0.3871977014122401), (d = \"I0006\", var\"(Intercept)\" = -0.4543515141805431), (d = \"I0007\", var\"(Intercept)\" = 0.6941271319185779), (d = \"I0008\", var\"(Intercept)\" = -0.6556985316701274), (d = \"I0012\", var\"(Intercept)\" = 0.2232270929725692), (d = \"I0013\", var\"(Intercept)\" = 0.35851765095513616), (d = \"I0014\", var\"(Intercept)\" = 0.36727982802972875), (d = \"I0015\", var\"(Intercept)\" = -0.37841262336526776), (d = \"I0017\", var\"(Intercept)\" = 0.4490431092879482), (d = \"I0018\", var\"(Intercept)\" = -0.2130290212029939)  …  (d = \"I2143\", var\"(Intercept)\" = 0.46453563052639246), (d = \"I2145\", var\"(Intercept)\" = -0.5103159237956026), (d = \"I2146\", var\"(Intercept)\" = 0.24093840057454008), (d = \"I2147\", var\"(Intercept)\" = -0.609469079727866), (d = \"I2149\", var\"(Intercept)\" = -0.2569369866698443), (d = \"I2152\", var\"(Intercept)\" = -0.14863445582416115), (d = \"I2153\", var\"(Intercept)\" = -0.45824502947271933), (d = \"I2156\", var\"(Intercept)\" = -0.5981638095970262), (d = \"I2157\", var\"(Intercept)\" = 0.5663070246200219), (d = \"I2160\", var\"(Intercept)\" = -0.2322550813384579)], dept = @NamedTuple{dept::String, (Intercept)::Float64}[(dept = \"D01\", var\"(Intercept)\" = 0.01925209823588375), (dept = \"D02\", var\"(Intercept)\" = -0.03142469083851408), (dept = \"D03\", var\"(Intercept)\" = 0.026990446729129435), (dept = \"D04\", var\"(Intercept)\" = 0.08635016621351274), (dept = \"D05\", var\"(Intercept)\" = 0.04253962436019779), (dept = \"D06\", var\"(Intercept)\" = -0.06123971074400431), (dept = \"D07\", var\"(Intercept)\" = 0.03799512248138028), (dept = \"D08\", var\"(Intercept)\" = 0.10707218145634924), (dept = \"D09\", var\"(Intercept)\" = -0.031304654966880036), (dept = \"D10\", var\"(Intercept)\" = -0.1307501138466036), (dept = \"D11\", var\"(Intercept)\" = -0.05345402697344361), (dept = \"D12\", var\"(Intercept)\" = 0.01653786497082539), (dept = \"D14\", var\"(Intercept)\" = -0.03943347505732836), (dept = \"D15\", var\"(Intercept)\" = 0.010869167979893487)])"
            ]
          }
        }
      ],
      "source": [
        "# gives a NamedTuple of tables for each grouping variable\n",
        "re = raneftables(fm1)"
      ],
      "id": "18"
    },
    {
      "cell_type": "code",
      "execution_count": 1,
      "metadata": {},
      "outputs": [
        {
          "output_type": "display_data",
          "metadata": {},
          "data": {
            "text/plain": [
              "Table with 2 columns and 14 rows:\n",
              "      dept  (Intercept)\n",
              "    ┌──────────────────\n",
              " 1  │ D01   0.0192521\n",
              " 2  │ D02   -0.0314247\n",
              " 3  │ D03   0.0269904\n",
              " 4  │ D04   0.0863502\n",
              " 5  │ D05   0.0425396\n",
              " 6  │ D06   -0.0612397\n",
              " 7  │ D07   0.0379951\n",
              " 8  │ D08   0.107072\n",
              " 9  │ D09   -0.0313047\n",
              " 10 │ D10   -0.13075\n",
              " 11 │ D11   -0.053454\n",
              " 12 │ D12   0.0165379\n",
              " 13 │ D14   -0.0394335\n",
              " 14 │ D15   0.0108692"
            ]
          }
        }
      ],
      "source": [
        "re[:dept]"
      ],
      "id": "20"
    },
    {
      "cell_type": "markdown",
      "metadata": {},
      "source": [
        "Similarly, `condVar` and `condVartables` provide similar results for the\n",
        "conditional variances, which can be used to construct prediction\n",
        "intervals. Note that this quantity is slightly more challenging to\n",
        "compute, so the next code chunk can be quite slow for large and/or\n",
        "complex models."
      ],
      "id": "be2fa72c-8b61-4f3a-bc82-243936d429b5"
    },
    {
      "cell_type": "code",
      "execution_count": 1,
      "metadata": {},
      "outputs": [
        {
          "output_type": "display_data",
          "metadata": {},
          "data": {
            "text/plain": [
              "(s = (s = [\"S0001\", \"S0002\", \"S0003\", \"S0004\", \"S0005\", \"S0006\", \"S0007\", \"S0008\", \"S0009\", \"S0010\"  …  \"S2963\", \"S2964\", \"S2965\", \"S2966\", \"S2967\", \"S2968\", \"S2969\", \"S2970\", \"S2971\", \"S2972\"], σ = [(0.2858671228362245,), (0.3040165017502583,), (0.22821165533498675,), (0.2578004425103726,), (0.2860221041711748,), (0.25793963311878376,), (0.2649009415162111,), (0.27833696665010815,), (0.2522474519336828,), (0.22880839419265198,)  …  (0.20261432307540148,), (0.15345463114059987,), (0.18906069725437913,), (0.23644930010448192,), (0.16864269562394849,), (0.132482319658741,), (0.21568697330755854,), (0.15989935597851845,), (0.1970392691204506,), (0.17611124660034733,)], ρ = [(), (), (), (), (), (), (), (), (), ()  …  (), (), (), (), (), (), (), (), (), ()]), d = (d = [\"I0001\", \"I0006\", \"I0007\", \"I0008\", \"I0012\", \"I0013\", \"I0014\", \"I0015\", \"I0017\", \"I0018\"  …  \"I2143\", \"I2145\", \"I2146\", \"I2147\", \"I2149\", \"I2152\", \"I2153\", \"I2156\", \"I2157\", \"I2160\"], σ = [(0.29447193578517417,), (0.1998489863854152,), (0.19760667793253092,), (0.1527043969316495,), (0.20500621849854034,), (0.18323915120884238,), (0.20826361545342348,), (0.1379769401014668,), (0.0991637673510267,), (0.2589837320741506,)  …  (0.2709897676057369,), (0.27856001288516263,), (0.2642022156832947,), (0.1135259649977105,), (0.21483200256076004,), (0.28061051441897883,), (0.21640462394420396,), (0.26558786177554317,), (0.18875478926313752,), (0.12464418506317759,)], ρ = [(), (), (), (), (), (), (), (), (), ()  …  (), (), (), (), (), (), (), (), (), ()]), dept = (dept = [\"D01\", \"D02\", \"D03\", \"D04\", \"D05\", \"D06\", \"D07\", \"D08\", \"D09\", \"D10\", \"D11\", \"D12\", \"D14\", \"D15\"], σ = [(0.05342326269418921,), (0.056952844171391834,), (0.053094116815828214,), (0.041891800931267716,), (0.055366070778972126,), (0.04470931534818489,), (0.05357594671331021,), (0.05037357874667522,), (0.05202188180710211,), (0.04767962130821475,), (0.052241617344059924,), (0.04219066031585405,), (0.05298726732192016,), (0.04862598365500502,)], ρ = [(), (), (), (), (), (), (), (), (), (), (), (), (), ()]))"
            ]
          }
        }
      ],
      "source": [
        "cv = condVartables(fm1)"
      ],
      "id": "22"
    },
    {
      "cell_type": "code",
      "execution_count": 1,
      "metadata": {},
      "outputs": [
        {
          "output_type": "display_data",
          "metadata": {},
          "data": {
            "text/plain": [
              "(dept = [\"D01\", \"D02\", \"D03\", \"D04\", \"D05\", \"D06\", \"D07\", \"D08\", \"D09\", \"D10\", \"D11\", \"D12\", \"D14\", \"D15\"], σ = [(0.05342326269418921,), (0.056952844171391834,), (0.053094116815828214,), (0.041891800931267716,), (0.055366070778972126,), (0.04470931534818489,), (0.05357594671331021,), (0.05037357874667522,), (0.05202188180710211,), (0.04767962130821475,), (0.052241617344059924,), (0.04219066031585405,), (0.05298726732192016,), (0.04862598365500502,)], ρ = [(), (), (), (), (), (), (), (), (), (), (), (), (), ()])"
            ]
          }
        }
      ],
      "source": [
        "# this output still isn't pretty, but we're working on it!\n",
        "cv[:dept]"
      ],
      "id": "24"
    },
    {
      "cell_type": "markdown",
      "metadata": {},
      "source": [
        "At this point, it becomes convenient to place everything into a\n",
        "dataframe so that we can easily manipulate the relevant quantities."
      ],
      "id": "43151244-897f-4d31-9333-04344efbe36f"
    },
    {
      "cell_type": "code",
      "execution_count": 1,
      "metadata": {},
      "outputs": [
        {
          "output_type": "display_data",
          "metadata": {},
          "data": {
            "text/html": [
              "</div>"
            ]
          }
        }
      ],
      "source": [
        "using DataFrames\n",
        "dept = DataFrame(cv[:dept])"
      ],
      "id": "26"
    },
    {
      "cell_type": "markdown",
      "metadata": {},
      "source": [
        "Let’s construct prediction intervals:"
      ],
      "id": "8cd13f5f-aca3-40b1-9bcf-9f80feaba194"
    },
    {
      "cell_type": "code",
      "execution_count": 1,
      "metadata": {},
      "outputs": [
        {
          "output_type": "display_data",
          "metadata": {},
          "data": {
            "text/html": [
              "</div>"
            ]
          }
        }
      ],
      "source": [
        "select!(dept, :dept, :σ => ByRow(first) => :condvar)\n",
        "leftjoin!(dept, DataFrame(re[:dept]); on=:dept)"
      ],
      "id": "28"
    },
    {
      "cell_type": "code",
      "execution_count": 1,
      "metadata": {},
      "outputs": [
        {
          "output_type": "display_data",
          "metadata": {},
          "data": {
            "text/html": [
              "</div>"
            ]
          }
        }
      ],
      "source": [
        "select!(dept, \"dept\", \"(Intercept)\" => \"blup\", \"condvar\")\n",
        "transform!(dept,\n",
        "           [:blup, :condvar] => ByRow((x,y) -> x - 1.96 * y) => :lower,\n",
        "           [:blup, :condvar] => ByRow((x,y) -> x + 1.96 * y) => :upper)"
      ],
      "id": "30"
    },
    {
      "cell_type": "markdown",
      "metadata": {},
      "source": [
        "## Measures of model fit\n",
        "\n",
        "MixedModels.jl provides methods for the standard functions `aic`,\n",
        "`aicc`, `bic`, `deviance`, `fitted`, `logliklihood`, `nobs`,\n",
        "`residuals`.\n",
        "\n",
        "The deviance is computed as `-2 loglikelihood` and is thus missing an\n",
        "additive constant for the saturated model. However, defining that\n",
        "constant is challenging for mixed models (what is the saturated model?\n",
        "do you saturate via the fixed or the random effects?) and that constant\n",
        "cancels out in the relevant computations.\n",
        "\n",
        "MixedModels.jl intentionally does not provide methods for `r2` and\n",
        "`adjr2`. These quantities are [notoriously difficult to define in a\n",
        "completely satisfactory way for mixed\n",
        "models](https://bbolker.github.io/mixedmodels-misc/glmmFAQ.html#model-summaries-goodness-of-fit-decomposition-of-variance-etc.)\n",
        "and we, the developers, felt uncomfortable giving our implicit\n",
        "endorsement by defining them as part of the core package. That said,\n",
        "there is an implementation of a naive definition of the coefficient of\n",
        "determination in\n",
        "[MixedModelsExtras.jl](https://palday.github.io/MixedModelsExtras.jl/v2/api/#Coefficient-of-Determination)\n",
        "because it is a commonly requested measure and I felt that it was better\n",
        "to have a well-tested implementation than have users handroll their own\n",
        "buggy implementation of an already problematic measure.\n",
        "\n",
        "# Predicting new data\n",
        "\n",
        "The `predict` function can be used to generate predictions on new data.\n",
        "As an initial sanity check, we can consider the case of predicting from\n",
        "the original data – this should yield the fitted values:"
      ],
      "id": "00b1e407-4112-4318-b2b9-972391ef1525"
    },
    {
      "cell_type": "code",
      "execution_count": 1,
      "metadata": {},
      "outputs": [
        {
          "output_type": "display_data",
          "metadata": {},
          "data": {
            "text/plain": [
              "true"
            ]
          }
        }
      ],
      "source": [
        "predict(fm1, insteval) ≈ fitted(fm1)"
      ],
      "id": "32"
    },
    {
      "cell_type": "markdown",
      "metadata": {},
      "source": [
        "The `predict` function supports three different options for handling new\n",
        "levels of the grouping variable:\n",
        "\n",
        "-   `:population`: return population values for the relevant grouping\n",
        "    variable. In other words, treat the associated random effect as 0.\n",
        "    If all grouping variables have new levels, then this is equivalent\n",
        "    to just the fixed effects.\n",
        "-   `:missing`: return `missing`.\n",
        "-   `:error`: error on this condition.\n",
        "\n",
        "For example, we can construct a novel dataset based on the first row of\n",
        "the insteval data."
      ],
      "id": "1cca0af2-2d50-427e-a5fe-4d5f2f6b834d"
    },
    {
      "cell_type": "code",
      "execution_count": 1,
      "metadata": {},
      "outputs": [
        {
          "output_type": "display_data",
          "metadata": {},
          "data": {
            "text/html": [
              "</div>"
            ]
          }
        }
      ],
      "source": [
        "df = first(DataFrame(insteval), 2)\n",
        "df[!, :s] .= \"new\"\n",
        "df"
      ],
      "id": "34"
    },
    {
      "cell_type": "code",
      "execution_count": 1,
      "metadata": {},
      "outputs": [
        {
          "output_type": "display_data",
          "metadata": {},
          "data": {
            "text/plain": [
              "2-element Vector{Float64}:\n",
              " 2.9786264758074457\n",
              " 2.996608353761869"
            ]
          }
        }
      ],
      "source": [
        "predict(fm1, df; new_re_levels=:population)"
      ],
      "id": "36"
    },
    {
      "cell_type": "code",
      "execution_count": 1,
      "metadata": {},
      "outputs": [
        {
          "output_type": "display_data",
          "metadata": {},
          "data": {
            "text/plain": [
              "2-element Vector{Union{Missing, Float64}}:\n",
              " missing\n",
              " missing"
            ]
          }
        }
      ],
      "source": [
        "predict(fm1, df; new_re_levels=:missing)"
      ],
      "id": "38"
    },
    {
      "cell_type": "code",
      "execution_count": 1,
      "metadata": {},
      "outputs": [],
      "source": [
        "predict(fm1, df; new_re_levels=:error)"
      ],
      "id": "40"
    },
    {
      "cell_type": "markdown",
      "metadata": {},
      "source": [
        "Similarly, the `simulate` function can be used to simulate new data and\n",
        "will draw a new sample from the estimated random effects distribution:"
      ],
      "id": "bf481287-345c-405b-b087-64fb7403228d"
    },
    {
      "cell_type": "code",
      "execution_count": 1,
      "metadata": {},
      "outputs": [
        {
          "output_type": "display_data",
          "metadata": {},
          "data": {
            "text/plain": [
              "2-element Vector{Float64}:\n",
              " 3.435828747762102\n",
              " 1.9761887463338355"
            ]
          }
        }
      ],
      "source": [
        "using Random\n",
        "simulate(MersenneTwister(42), fm1, df)"
      ],
      "id": "42"
    },
    {
      "cell_type": "markdown",
      "metadata": {},
      "source": [
        "# Constructing more complex models\n",
        "\n",
        "We now consider a few more complicated models to examine a few further\n",
        "extensions to the syntax. Including additional varying slopes is as easy\n",
        "as adding them before the relevant grouping variable:"
      ],
      "id": "7527917c-eafb-48c3-bea6-0fa89372c044"
    },
    {
      "cell_type": "code",
      "execution_count": 1,
      "metadata": {},
      "outputs": [
        {
          "output_type": "display_data",
          "metadata": {},
          "data": {}
        }
      ],
      "source": [
        "fm2 = fit(MixedModel,\n",
        "          @formula(y ~ 1 + studage + lectage + service +\n",
        "                      (1 | s) +\n",
        "                      (1 + service | d) +\n",
        "                      (1 + service | dept)),\n",
        "          insteval; progress=false)"
      ],
      "id": "44"
    },
    {
      "cell_type": "code",
      "execution_count": 1,
      "metadata": {},
      "outputs": [
        {
          "output_type": "stream",
          "name": "stdout",
          "text": [
            "Linear mixed model fit by maximum likelihood\n",
            " y ~ 1 + studage + lectage + service + (1 | s) + (1 + service | d) + (1 + service | dept)\n",
            "    logLik     -2 logLik       AIC         AICc          BIC     \n",
            " -118578.6372  237157.2744  237193.2744  237193.2837  237358.9458\n",
            "\n",
            "Variance components:\n",
            "            Column    Variance  Std.Dev.   Corr.\n",
            "s        (Intercept)  0.1051220 0.3242252\n",
            "d        (Intercept)  0.2662917 0.5160346\n",
            "         service: Y   0.1525493 0.3905756 -0.40\n",
            "dept     (Intercept)  0.0041249 0.0642251\n",
            "         service: Y   0.0268795 0.1639498 -0.71\n",
            "Residual              1.3684551 1.1698098\n",
            " Number of obs: 73421; levels of grouping factors: 2972, 1128, 14\n",
            "\n",
            "  Fixed-effects parameters:\n",
            "─────────────────────────────────────────────────────\n",
            "                  Coef.  Std. Error       z  Pr(>|z|)\n",
            "─────────────────────────────────────────────────────\n",
            "(Intercept)   3.2985      0.0307514  107.26    <1e-99\n",
            "studage: 4    0.05022     0.0232291    2.16    0.0306\n",
            "studage: 6    0.057262    0.0242028    2.37    0.0180\n",
            "studage: 8    0.11277     0.0267844    4.21    <1e-04\n",
            "lectage: 2   -0.0787343   0.0156461   -5.03    <1e-06\n",
            "lectage: 3   -0.103602    0.0168684   -6.14    <1e-09\n",
            "lectage: 4   -0.183663    0.0199353   -9.21    <1e-19\n",
            "lectage: 5   -0.150343    0.0216722   -6.94    <1e-11\n",
            "lectage: 6   -0.223191    0.0209329  -10.66    <1e-25\n",
            "service: Y   -0.0280736   0.0498244   -0.56    0.5731\n",
            "─────────────────────────────────────────────────────"
          ]
        }
      ],
      "source": [
        "println(fm2)"
      ],
      "id": "46"
    },
    {
      "cell_type": "markdown",
      "metadata": {},
      "source": [
        "Of course, we want to know whether this more complicated model has a\n",
        "better fit than our original model. To that end, we can use the `lrtest`\n",
        "function (same as in GLM.jl and originally part of the StatsAPI.jl\n",
        "specification):"
      ],
      "id": "8554efe9-0af6-4d3b-a447-832387a42942"
    },
    {
      "cell_type": "code",
      "execution_count": 1,
      "metadata": {},
      "outputs": [
        {
          "output_type": "display_data",
          "metadata": {},
          "data": {
            "text/plain": [
              "Likelihood-ratio test: 2 models fitted on 73421 observations\n",
              "──────────────────────────────────────────────────────────────\n",
              "     DOF  ΔDOF        LogLik     Deviance     Chisq  p(>Chisq)\n",
              "──────────────────────────────────────────────────────────────\n",
              "[1]   14        -118776.9929  237553.9858                     \n",
              "[2]   18     4  -118578.6372  237157.2744  396.7114     <1e-83\n",
              "──────────────────────────────────────────────────────────────"
            ]
          }
        }
      ],
      "source": [
        "using MixedModels: lrtest\n",
        "lrtest(fm1, fm2)"
      ],
      "id": "48"
    },
    {
      "cell_type": "markdown",
      "metadata": {},
      "source": [
        "The `lrtest` function is very general and as such has rather generic\n",
        "output. The checks it performs for nested models are also fairly\n",
        "conservative in the mixed models case – determining nesting of mixed\n",
        "models is not always trivial. MixedModels.jl also provides a\n",
        "`likelihoodratio` function that is a bit more specialized for mixed\n",
        "models and which performs a different, less conservative set of nesting\n",
        "checks:"
      ],
      "id": "348001cb-1119-4fe2-bea7-cea599802761"
    },
    {
      "cell_type": "code",
      "execution_count": 1,
      "metadata": {},
      "outputs": [
        {
          "output_type": "display_data",
          "metadata": {},
          "data": {}
        }
      ],
      "source": [
        "using MixedModels: likelihoodratiotest\n",
        "likelihoodratiotest(fm1, fm2)"
      ],
      "id": "50"
    },
    {
      "cell_type": "markdown",
      "metadata": {},
      "source": [
        "We can see that the display is different but that the computed\n",
        "quantities are indeed identical.\n",
        "\n",
        "We can also consider an even more complicated model, where there is a\n",
        "varying effect of `studage` by `d`ozent – perhaps a particular\n",
        "instructor has a teaching style that is better for students at the\n",
        "beginning or end of their studies. However, `studage` is a categorical\n",
        "variable with four levels, so including it means that we would include\n",
        "three additional contrasts in the random effects. Together with the\n",
        "intercept and `service`, we would then have 6 \\* 5 / 2 = 15 correlation\n",
        "parameters to estimate, which dramatically increases model complexity.\n",
        "We can force the correlation parameters for a particular blocking\n",
        "variable to zero with `zerocorr`. Furthermore, if we include the same\n",
        "blocking variable multiple times, then the estimated correlations\n",
        "between the different occurrences are all forced to zero."
      ],
      "id": "ecd63db1-88a0-4536-8e19-acb044c5f15c"
    },
    {
      "cell_type": "code",
      "execution_count": 1,
      "metadata": {},
      "outputs": [
        {
          "output_type": "display_data",
          "metadata": {},
          "data": {}
        }
      ],
      "source": [
        "fm3 = fit(MixedModel,\n",
        "          @formula(y ~ 1 + studage + lectage + service +\n",
        "                      (1 | s) +\n",
        "                      (1 + service | d) +\n",
        "                      zerocorr(0 + studage | d) +\n",
        "                      (1 + service | dept)),\n",
        "          insteval; progress=false)"
      ],
      "id": "52"
    },
    {
      "cell_type": "markdown",
      "metadata": {},
      "source": [
        "Note that correlation that are systematically zero are shown with a `.`\n",
        "The estimated between-department variance for the intercept term has\n",
        "also dropped to zero, which leads to the associated correlation being\n",
        "`NaN`."
      ],
      "id": "88cbd79e-8fff-4e85-8b52-9a1e0c05e7fe"
    },
    {
      "cell_type": "code",
      "execution_count": 1,
      "metadata": {},
      "outputs": [
        {
          "output_type": "stream",
          "name": "stdout",
          "text": [
            "Linear mixed model fit by maximum likelihood\n",
            " y ~ 1 + studage + lectage + service + (1 | s) + (1 + service | d) + zerocorr(0 + studage | d) + (1 + service | dept)\n",
            "    logLik     -2 logLik       AIC         AICc          BIC     \n",
            " -118332.7153  236665.4305  236707.4305  236707.4431  236900.7138\n",
            "\n",
            "Variance components:\n",
            "            Column   Variance Std.Dev.   Corr.\n",
            "d        (Intercept)  0.252223 0.502218\n",
            "         service: Y   0.137161 0.370352 -0.40\n",
            "         studage: 4   0.072836 0.269881   .     .  \n",
            "         studage: 6   0.042995 0.207352   .     .     .  \n",
            "         studage: 8   0.064423 0.253817   .     .     .     .  \n",
            "s        (Intercept)  0.104624 0.323456\n",
            "dept     (Intercept)  0.002055 0.045334\n",
            "         service: Y   0.027939 0.167149 -1.00\n",
            "Residual              1.341233 1.158116\n",
            " Number of obs: 73421; levels of grouping factors: 1128, 2972, 14\n",
            "\n",
            "  Fixed-effects parameters:\n",
            "─────────────────────────────────────────────────────\n",
            "                  Coef.  Std. Error       z  Pr(>|z|)\n",
            "─────────────────────────────────────────────────────\n",
            "(Intercept)   3.30836     0.0289634  114.23    <1e-99\n",
            "studage: 4    0.0549586   0.0277042    1.98    0.0473\n",
            "studage: 6    0.0544289   0.0264724    2.06    0.0398\n",
            "studage: 8    0.109672    0.0293385    3.74    0.0002\n",
            "lectage: 2   -0.0855503   0.0171859   -4.98    <1e-06\n",
            "lectage: 3   -0.0982976   0.0187591   -5.24    <1e-06\n",
            "lectage: 4   -0.199561    0.0218111   -9.15    <1e-19\n",
            "lectage: 5   -0.165114    0.0231269   -7.14    <1e-12\n",
            "lectage: 6   -0.247818    0.0221157  -11.21    <1e-28\n",
            "service: Y   -0.019882    0.050354    -0.39    0.6930\n",
            "─────────────────────────────────────────────────────"
          ]
        }
      ],
      "source": [
        "println(fm3)"
      ],
      "id": "54"
    },
    {
      "cell_type": "markdown",
      "metadata": {},
      "source": [
        "This additional model complexity is warranted in terms of goodness of\n",
        "fit:"
      ],
      "id": "319a2618-f09b-4ac6-b1d2-14d10c9502ef"
    },
    {
      "cell_type": "code",
      "execution_count": 1,
      "metadata": {},
      "outputs": [
        {
          "output_type": "display_data",
          "metadata": {},
          "data": {}
        }
      ],
      "source": [
        "likelihoodratiotest(fm2, fm3)"
      ],
      "id": "56"
    },
    {
      "cell_type": "markdown",
      "metadata": {},
      "source": [
        "As a final note, we can also examine the effective dimensionality of the\n",
        "random effects with PCA (Bates et al., 2018). The property `rePCA`\n",
        "displays the cumulative variance explained for each principle component\n",
        "of each variance component and thus an estimate of excess\n",
        "dimensionality:"
      ],
      "id": "c33bbb2e-36da-44cc-8d0c-e6c7f3f6cd4d"
    },
    {
      "cell_type": "code",
      "execution_count": 1,
      "metadata": {},
      "outputs": [
        {
          "output_type": "display_data",
          "metadata": {},
          "data": {
            "text/plain": [
              "(s = [1.0], d = [0.6996051806016415, 1.0], dept = [0.8551042911816997, 1.0])"
            ]
          }
        }
      ],
      "source": [
        "fm2.rePCA"
      ],
      "id": "58"
    },
    {
      "cell_type": "code",
      "execution_count": 1,
      "metadata": {},
      "outputs": [
        {
          "output_type": "display_data",
          "metadata": {},
          "data": {
            "text/plain": [
              "(d = [0.27925260802249807, 0.4792526080224981, 0.6792526080224981, 0.879252608022498, 1.0], s = [1.0], dept = [1.0, 1.0])"
            ]
          }
        }
      ],
      "source": [
        "fm3.rePCA"
      ],
      "id": "60"
    },
    {
      "cell_type": "markdown",
      "metadata": {},
      "source": [
        "Together with the estimated correlations, this suggests that we could\n",
        "reduce the complexity of the by-department random effects. (Given that\n",
        "there are only 15 levels of department, it is also not surprising that\n",
        "we are unable to estimate subtle between department effects.)"
      ],
      "id": "114010ea-d878-44f3-a03e-b2271d22ad18"
    },
    {
      "cell_type": "code",
      "execution_count": 1,
      "metadata": {},
      "outputs": [
        {
          "output_type": "stream",
          "name": "stdout",
          "text": [
            "Linear mixed model fit by maximum likelihood\n",
            " y ~ 1 + studage + lectage + service + (1 | s) + (1 + service | d) + zerocorr(0 + studage | d) + (1 | dept)\n",
            "    logLik     -2 logLik       AIC         AICc          BIC     \n",
            " -118344.9806  236689.9611  236727.9611  236727.9715  236902.8365\n",
            "\n",
            "Variance components:\n",
            "            Column    Variance  Std.Dev.   Corr.\n",
            "d        (Intercept)  0.2512074 0.5012060\n",
            "         service: Y   0.1548050 0.3934526 -0.39\n",
            "         studage: 4   0.0735059 0.2711197   .     .  \n",
            "         studage: 6   0.0429213 0.2071747   .     .     .  \n",
            "         studage: 8   0.0641994 0.2533760   .     .     .     .  \n",
            "s        (Intercept)  0.1046981 0.3235708\n",
            "dept     (Intercept)  0.0041447 0.0643792\n",
            "Residual              1.3412751 1.1581343\n",
            " Number of obs: 73421; levels of grouping factors: 1128, 2972, 14\n",
            "\n",
            "  Fixed-effects parameters:\n",
            "─────────────────────────────────────────────────────\n",
            "                  Coef.  Std. Error       z  Pr(>|z|)\n",
            "─────────────────────────────────────────────────────\n",
            "(Intercept)   3.30686     0.0315165  104.92    <1e-99\n",
            "studage: 4    0.0569039   0.0277378    2.05    0.0402\n",
            "studage: 6    0.0590462   0.02647      2.23    0.0257\n",
            "studage: 8    0.116331    0.0293413    3.96    <1e-04\n",
            "lectage: 2   -0.0851802   0.0172081   -4.95    <1e-06\n",
            "lectage: 3   -0.0995893   0.0187627   -5.31    <1e-06\n",
            "lectage: 4   -0.20152     0.0218215   -9.23    <1e-19\n",
            "lectage: 5   -0.168801    0.023126    -7.30    <1e-12\n",
            "lectage: 6   -0.253877    0.0221083  -11.48    <1e-29\n",
            "service: Y   -0.0499557   0.0224017   -2.23    0.0257\n",
            "─────────────────────────────────────────────────────"
          ]
        }
      ],
      "source": [
        "fm4 = fit(MixedModel,\n",
        "          @formula(y ~ 1 + studage + lectage + service +\n",
        "                      (1 | s) +\n",
        "                      (1 + service | d) +\n",
        "                      zerocorr(0 + studage | d) +\n",
        "                      (1 | dept)),\n",
        "          insteval; progress=false)\n",
        "println(fm4)"
      ],
      "id": "62"
    },
    {
      "cell_type": "code",
      "execution_count": 1,
      "metadata": {},
      "outputs": [
        {
          "output_type": "display_data",
          "metadata": {},
          "data": {}
        }
      ],
      "source": [
        "likelihoodratiotest(fm3, fm4)"
      ],
      "id": "64"
    },
    {
      "cell_type": "code",
      "execution_count": 1,
      "metadata": {},
      "outputs": [
        {
          "output_type": "display_data",
          "metadata": {},
          "data": {
            "text/plain": [
              "(d = [0.278618228343286, 0.47861822834328593, 0.678618228343286, 0.878618228343286, 1.0], s = [1.0], dept = [1.0])"
            ]
          }
        }
      ],
      "source": [
        "fm4.rePCA"
      ],
      "id": "66"
    },
    {
      "cell_type": "markdown",
      "metadata": {},
      "source": [
        "# How big can we go?\n",
        "\n",
        "The MovieLens data (Harper & Konstan, 2016) contain millions of\n",
        "observations and provide a good stress test for model size and\n",
        "complexity.\n",
        "\n",
        "> **Note**\n",
        ">\n",
        "> The following models consume a large amount of memory because of the\n",
        "> sheer size of the underlying dataset. Do **not** attempt to fit these\n",
        "> models on a machine with less than 32GiB of memory.\n",
        "\n",
        "See also the chapter [“A large-scale observational study” in our online\n",
        "book *Embrace\n",
        "Uncertainty*](https://embraceuncertaintybook.com/largescaleobserved.html).\n",
        "\n",
        "## Memory allocation vs. fitting"
      ],
      "id": "cb183c06-8bef-4478-995b-5754eba38cbf"
    },
    {
      "cell_type": "code",
      "execution_count": 0,
      "metadata": {},
      "outputs": [],
      "source": [
        "using Econ2024\n",
        "ratings = Econ2024.dataset(\"ratings\")\n",
        "@time fm_ratings = LinearMixedModel(@formula(rating ~ 1 + (1|userId) + (1|movieId)), ratings)"
      ],
      "id": "68"
    },
    {
      "cell_type": "code",
      "execution_count": 0,
      "metadata": {},
      "outputs": [],
      "source": [
        "@time fit!(fm_ratings)"
      ],
      "id": "70"
    },
    {
      "cell_type": "markdown",
      "metadata": {},
      "source": [
        "## To try on your own after the course"
      ],
      "id": "c54ca3d6-dfec-4f7a-97ce-c811c1b5927e"
    },
    {
      "cell_type": "code",
      "execution_count": 0,
      "metadata": {},
      "outputs": [],
      "source": [
        "using Econ2024\n",
        "ratings = DataFrame(Econ2024.dataset(\"ratings_genre\"))\n",
        "describe(ratings)"
      ],
      "id": "72"
    },
    {
      "cell_type": "code",
      "execution_count": 0,
      "metadata": {},
      "outputs": [],
      "source": [
        "using StatsBase\n",
        "mcount = countmap(ratings.movieId)\n",
        "ucount = countmap(ratings.userId)\n",
        "mexclude = Set(k for (k, v) in pairs(mcount) if v < 50)\n",
        "uexclude = Set(k for (k, v) in pairs(ucount) if v < 50)\n",
        "ratings = subset(ratings,\n",
        "                 :movieId => ByRow(!in(mexclude)),\n",
        "                 :userId => ByRow(!in(uexclude)))"
      ],
      "id": "74"
    },
    {
      "cell_type": "code",
      "execution_count": 0,
      "metadata": {},
      "outputs": [],
      "source": [
        "# This takes about an hour on my home computer when using the full dataset\n",
        "form1 = @formula(rating ~ 0 + Action + Adventure + Animation +\n",
        "                             Children + Comedy + Crime +\n",
        "                             Documentary + Drama +\n",
        "                             Fantasy + Film_Noir +\n",
        "                             Horror + IMAX +\n",
        "                             Musical + Mystery + Romance +\n",
        "                             Sci_Fi + Thriller + War + Western +\n",
        "                             (1 | movieId) +\n",
        "                             (1 | userId))\n",
        "fit(MixedModel, form1, ratings)"
      ],
      "id": "76"
    },
    {
      "cell_type": "raw",
      "metadata": {
        "raw_mimetype": "text/html"
      },
      "source": [
        "<!-- # Saving and restoring fits -->"
      ],
      "id": "7c306e9c-1e5a-4029-bdb4-4d45573ce39b"
    },
    {
      "cell_type": "markdown",
      "metadata": {},
      "source": [
        "# Generalized Linear Mixed Effects Models\n",
        "\n",
        "One of the test data sets from the Center for Multilevel Modelling,\n",
        "University of Bristol is derived from the 1989 Bangladesh Fertility\n",
        "Survey (Huq & Cleland, 1990). The data are a subsample of 1934 women\n",
        "selected from 60 of the 64 political districts or *zila*, available as\n",
        "the `contra` data set in the `MixedModels` package.\n",
        "\n",
        "Variable in the dataset:\n",
        "\n",
        "-   `use`, whether the woman chooses to use artificial contraception,\n",
        "    with two possible values, `N` and `Y`\n",
        "-   `dist`, district in which the woman resides\n",
        "-   `livch`, the number of live children she currently has, coded as\n",
        "    `0`, `1`, `2`, and `3+`\n",
        "-   `age`, in years, but pre-centered and rounded, with the original\n",
        "    center not available\n",
        "-   `urban`, coded as `N` and `Y`, indicating rural or urban."
      ],
      "id": "5a9edc5e-06b6-45a7-9731-fc30ae5817e2"
    },
    {
      "cell_type": "code",
      "execution_count": 1,
      "metadata": {},
      "outputs": [
        {
          "output_type": "display_data",
          "metadata": {},
          "data": {
            "text/plain": [
              "Arrow.Table with 1934 rows, 5 columns, and schema:\n",
              " :dist   String\n",
              " :urban  String\n",
              " :livch  String\n",
              " :age    Float64\n",
              " :use    String"
            ]
          }
        }
      ],
      "source": [
        "contra = MixedModels.dataset(:contra)"
      ],
      "id": "78"
    },
    {
      "cell_type": "markdown",
      "metadata": {},
      "source": [
        "In order to simplify the data a bit, we will also add a binary variable\n",
        "`anych` which indicates whether the woman has *any* children:"
      ],
      "id": "c9359eb9-7e3e-48a0-be4f-9afc6cc3560d"
    },
    {
      "cell_type": "code",
      "execution_count": 1,
      "metadata": {},
      "outputs": [
        {
          "output_type": "display_data",
          "metadata": {},
          "data": {
            "text/html": [
              "</div>"
            ]
          }
        }
      ],
      "source": [
        "contra = DataFrame(contra)\n",
        "contra[!, :anych] .= contra[!, :livch] .!= \"0\"\n",
        "describe(contra)"
      ],
      "id": "80"
    },
    {
      "cell_type": "markdown",
      "metadata": {},
      "source": [
        "> **Note**\n",
        ">\n",
        "> For a more principled examination of model building with this dataset,\n",
        "> please refer to the [chapter “Generalized linear mixed models for\n",
        "> binary\n",
        "> responses”](https://embraceuncertaintybook.com/glmmbernoulli.html) of\n",
        "> *Embrace Uncertainty*.\n",
        "\n",
        "We set some appropriate contrasts"
      ],
      "id": "c35835d7-ffde-4e68-92f2-bb12f2fc8fd7"
    },
    {
      "cell_type": "code",
      "execution_count": 1,
      "metadata": {},
      "outputs": [
        {
          "output_type": "display_data",
          "metadata": {},
          "data": {
            "text/plain": [
              "Dict{Symbol, StatsModels.AbstractContrasts} with 3 entries:\n",
              "  :urban => EffectsCoding(nothing, nothing)\n",
              "  :livch => HelmertCoding(\"0\", nothing)\n",
              "  :anych => EffectsCoding(nothing, nothing)"
            ]
          }
        }
      ],
      "source": [
        "contrasts = Dict(:livch => HelmertCoding(; base=\"0\"),\n",
        "                 :urban => EffectsCoding(),\n",
        "                 :anych => EffectsCoding())"
      ],
      "id": "82"
    },
    {
      "cell_type": "markdown",
      "metadata": {},
      "source": [
        "and fit a model"
      ],
      "id": "9f9cc98d-ea9c-4e38-9ecf-90dfea91d9fe"
    },
    {
      "cell_type": "code",
      "execution_count": 1,
      "metadata": {},
      "outputs": [
        {
          "output_type": "display_data",
          "metadata": {},
          "data": {}
        }
      ],
      "source": [
        "gm1 = fit(MixedModel,\n",
        "          @formula(use ~ 1 + urban + anych * age + abs2(age) + (1 | dist & urban)),\n",
        "          contra,\n",
        "          Bernoulli(),\n",
        "          LogitLink(); # optional, defaults to canonical link\n",
        "          nAGQ=1, # optional, default to 1\n",
        "          fast=false, # optional, defaults to false, see the docs for more details.\n",
        "          contrasts,\n",
        "          progress=false)"
      ],
      "id": "84"
    },
    {
      "cell_type": "markdown",
      "metadata": {},
      "source": [
        "# Limitations of MixedModels.jl\n",
        "\n",
        "We expect that MixedModels.jl will generally be best in class for the\n",
        "types of models that it can fit. We use cutting edge algorithms based on\n",
        "penalized least squares and sparse matrix methods that take advantage of\n",
        "the particular sparsity and structure that arises in the case of the\n",
        "linear mixed effects model with an unconstrained covariance structure.\n",
        "Glossing over a fair number of technical details, MixedModels.jl uses a\n",
        "different, novel formulation of the underlying numerical problem which\n",
        "tends to be much more efficient computationally and allows us to fit\n",
        "models with multiple crossed, partially crossed or nested grouping\n",
        "variables without any special treatment.\n",
        "\n",
        "## Very few options for covariance structure\n",
        "\n",
        "Nonetheless, there is no free lunch and the tradeoff that we make is\n",
        "that it is *much* more difficult to formulate constraints on the\n",
        "covariance structure (whether on the random effects or on the\n",
        "response/residuals) in our formulation. MixedModels.jl currently\n",
        "supports precisely two covariance structures explicitly:\n",
        "\n",
        "1.  unconstrained\n",
        "2.  zero correlation (diagonal covariance structure)\n",
        "\n",
        "It is also possible to express some models with compound symmetry by\n",
        "clever manipulation of the formula syntax (i.e. `(1+c|g)` for\n",
        "categorical `c` with compound symmetry is the same as\n",
        "`(1|g) + (1|g&c)`).\n",
        "\n",
        "MixedModels.jl does support constraining the residual variance to known\n",
        "scalar value, which is useful in meta-analysis.\n",
        "\n",
        "[Metida.jl](https://github.com/PharmCat/Metida.jl) may provide an\n",
        "alternative if this functionality is required (not an endorsement).\n",
        "\n",
        "## No support for sandwich/robust variance-covariance estimators\n",
        "\n",
        "[*This may change in the foreseeable\n",
        "future!*](https://github.com/JuliaStats/MixedModels.jl/pull/768)\n",
        "\n",
        "If this would be a valuable feature, then please [file an\n",
        "issue](https://github.com/JuliaStats/MixedModels.jl/issues/new). Issues\n",
        "are prioritized by the developers’ own needs and potential impact for\n",
        "users, so showing a large need for a feature will tend to increase its\n",
        "priority.\n",
        "\n",
        "[FixedEffectsModels.jl](https://github.com/FixedEffects/FixedEffectModels.jl)\n",
        "may be a viable alternative (not an endorsement). It provides “fast\n",
        "estimation of linear models with IV and high dimensional categorical\n",
        "variables” and provides similar functionality to Stata’s `reghdfe` and\n",
        "R’s `lfe` and `fixest`.\n",
        "\n",
        "## No support for generalized linear mixed models with a dispersion parameter\n",
        "\n",
        "While MixedModels.jl does nominally support any GLM family and link\n",
        "function support by GLM.jl, the results for model families with a\n",
        "dispersion parameter (normal with non-identity link, gamma, inverse\n",
        "Gaussian) are known to be incorrect. The package issues a warning if you\n",
        "attempt to fit such models.\n",
        "\n",
        "## No support for polytomous responses\n",
        "\n",
        "Multinomial and ordered responses are not supported. I am unaware of a\n",
        "Julia package offering support for this.\n",
        "\n",
        "## No support for regularization of the fixed effects\n",
        "\n",
        "[HighDimMixedModels.jl](https://github.com/solislemuslab/HighDimMixedModels.jl)\n",
        "may provide an alternative if this functionality is required (not an\n",
        "endorsement).\n",
        "\n",
        "## No support for generalized additive mixed models\n",
        "\n",
        "Generalized additive models can be expressed a mixed model, so\n",
        "supporting this would require “only” adding a translation layer.\n",
        "\n",
        "## No support for nonlinear mixed effects models\n",
        "\n",
        "[Pumas.jl\n",
        "(commercial)](https://pumas.ai/our-products/products-suite/pumas)\n",
        "provides this (not an endorsement).\n",
        "\n",
        "# References\n",
        "\n",
        "Bates, D., Kliegl, R., Vasishth, S., & Baayen, H. (2018). Parsimonious\n",
        "Mixed Models. *arXiv:1506.04967 \\[Stat\\]*.\n",
        "<http://arxiv.org/abs/1506.04967>\n",
        "<span class=\"csl-block\">arXiv: 1506.04967</span>\n",
        "\n",
        "Harper, F. M., & Konstan, J. A. (2016). The MovieLens datasets. *ACM\n",
        "Transactions on Interactive Intelligent Systems*, *5*(4), 1–19.\n",
        "<https://doi.org/10.1145/2827872>\n",
        "\n",
        "Huq, N. M., & Cleland, J. (1990). *Bangladesh fertility survey 1989\n",
        "(main report)*. National Institute of Population Research; Training."
      ],
      "id": "dbe5b582-4176-4340-8a9d-408896e2991d"
    }
  ],
  "nbformat": 4,
  "nbformat_minor": 5,
  "metadata": {
    "kernel_info": {
      "name": "julia"
    },
    "kernelspec": {
      "name": "julia",
      "display_name": "Julia",
      "language": "julia"
    },
    "language_info": {
      "name": "julia",
      "codemirror_mode": "julia",
      "version": "1.10.4"
    }
  }
}